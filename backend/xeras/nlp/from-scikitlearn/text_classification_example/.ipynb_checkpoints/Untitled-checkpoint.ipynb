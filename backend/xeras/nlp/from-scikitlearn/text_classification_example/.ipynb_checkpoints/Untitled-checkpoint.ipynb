{
 "cells": [
  {
   "cell_type": "code",
   "execution_count": 1,
   "metadata": {},
   "outputs": [
    {
     "ename": "ImportError",
     "evalue": "No module named pyvi.pyvi",
     "traceback": [
      "\u001b[0;31m---------------------------------------------------------------------------\u001b[0m",
      "\u001b[0;31mImportError\u001b[0m                               Traceback (most recent call last)",
      "\u001b[0;32m<ipython-input-1-afe89a518b7b>\u001b[0m in \u001b[0;36m<module>\u001b[0;34m()\u001b[0m\n\u001b[1;32m      1\u001b[0m \u001b[0;31m# Cài đặt pyvi tại đây: https://pypi.python.org/pypi/pyvi\u001b[0m\u001b[0;34m\u001b[0m\u001b[0;34m\u001b[0m\u001b[0m\n\u001b[0;32m----> 2\u001b[0;31m \u001b[0;32mfrom\u001b[0m \u001b[0mpyvi\u001b[0m\u001b[0;34m.\u001b[0m\u001b[0mpyvi\u001b[0m \u001b[0;32mimport\u001b[0m \u001b[0mViTokenizer\u001b[0m\u001b[0;34m,\u001b[0m \u001b[0mViPosTagger\u001b[0m\u001b[0;34m\u001b[0m\u001b[0m\n\u001b[0m\u001b[1;32m      3\u001b[0m \u001b[0;34m\u001b[0m\u001b[0m\n\u001b[1;32m      4\u001b[0m \u001b[0mtrain_data\u001b[0m \u001b[0;34m=\u001b[0m \u001b[0;34m[\u001b[0m\u001b[0;34m]\u001b[0m\u001b[0;34m\u001b[0m\u001b[0m\n\u001b[1;32m      5\u001b[0m \u001b[0mtest_data\u001b[0m \u001b[0;34m=\u001b[0m \u001b[0;34m[\u001b[0m\u001b[0;34m]\u001b[0m\u001b[0;34m\u001b[0m\u001b[0m\n",
      "\u001b[0;31mImportError\u001b[0m: No module named pyvi.pyvi"
     ],
     "output_type": "error"
    }
   ],
   "source": [
    "# Cài đặt pyvi tại đây: https://pypi.python.org/pypi/pyvi\n",
    "import sys\n",
    "sys.executable\n",
    "from pyvi.pyvi import ViTokenizer, ViPosTagger\n",
    "\n",
    "train_data = []\n",
    "test_data = []\n",
    "\n",
    "# Tạo train data và test data\n",
    "train_data.append({\"feature\": u\"Hôm nay trời đẹp không ?\", \"target\": \"hoi_thoi_tiet\"})\n",
    "train_data.append({\"feature\": u\"Hôm nay thời tiết thế nào ?\", \"target\": \"hoi_thoi_tiet\"})\n",
    "train_data.append({\"feature\": u\"Hôm nay mưa không ?\", \"target\": \"hoi_thoi_tiet\"})\n",
    "train_data.append({\"feature\": u\"Chào em gái\", \"target\": \"chao_hoi\"})\n",
    "train_data.append({\"feature\": u\"Chào bạn\", \"target\": \"chao_hoi\"})\n",
    "train_data.append({\"feature\": u\"Hello bạn\", \"target\": \"chao_hoi\"})\n",
    "train_data.append({\"feature\": u\"Hi em\", \"target\": \"chao_hoi\"})\n",
    "df_train = pd.DataFrame(train_data)\n",
    "\n",
    "test_data.append({\"feature\": u\"Nóng quá, mai mưa không em ơi?\", \"target\": \"hoi_thoi_tiet\"})\n",
    "df_test = pd.DataFrame(test_data)\n",
    "\n",
    "\n",
    "result = train_data.apply(lambda text: self.tokenizer.tokenize(text))\n",
    "\n",
    "print result"
   ]
  }
 ],
 "metadata": {
  "kernelspec": {
   "display_name": "Python 2",
   "language": "python",
   "name": "python2"
  },
  "language_info": {
   "codemirror_mode": {
    "name": "ipython",
    "version": 2
   },
   "file_extension": ".py",
   "mimetype": "text/x-python",
   "name": "python",
   "nbconvert_exporter": "python",
   "pygments_lexer": "ipython2",
   "version": "2.7.13"
  }
 },
 "nbformat": 4,
 "nbformat_minor": 2
}
